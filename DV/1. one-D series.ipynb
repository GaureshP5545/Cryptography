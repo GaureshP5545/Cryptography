{
 "cells": [
  {
   "cell_type": "code",
   "execution_count": 1,
   "metadata": {},
   "outputs": [
    {
     "name": "stdout",
     "output_type": "stream",
     "text": [
      "a    0.660808\n",
      "b   -0.290275\n",
      "c   -0.068506\n",
      "d    0.649300\n",
      "dtype: float64\n",
      "Index(['a', 'b', 'c', 'd'], dtype='object')\n"
     ]
    }
   ],
   "source": [
    "import numpy as np\n",
    "import pandas as pd\n",
    "#Creating a Series of Ndarray Data with Labels\n",
    "Series1 = pd.Series(np.random.randn(4), index=['a','b', 'c', 'd'])\n",
    "print(Series1)\n",
    "print(Series1.index)"
   ]
  },
  {
   "cell_type": "code",
   "execution_count": 2,
   "metadata": {},
   "outputs": [
    {
     "name": "stdout",
     "output_type": "stream",
     "text": [
      "0    0.191272\n",
      "1    0.270972\n",
      "2    0.580247\n",
      "3    3.075225\n",
      "dtype: float64\n",
      "RangeIndex(start=0, stop=4, step=1)\n",
      " \n",
      " Series slicing \n",
      "a    0.660808\n",
      "b   -0.290275\n",
      "c   -0.068506\n",
      "dtype: float64\n",
      "\n",
      "Index accessing\n",
      "d    0.649300\n",
      "b   -0.290275\n",
      "a    0.660808\n",
      "dtype: float64\n",
      "\n",
      " Single index\n",
      "0.6608075111357372\n"
     ]
    },
    {
     "name": "stderr",
     "output_type": "stream",
     "text": [
      "C:\\Users\\viraj_pawasakar\\AppData\\Local\\Temp\\ipykernel_8736\\1065709537.py:9: FutureWarning: Series.__getitem__ treating keys as positions is deprecated. In a future version, integer keys will always be treated as labels (consistent with DataFrame behavior). To access a value by position, use `ser.iloc[pos]`\n",
      "  print (Series1[[3,1,0]])\n",
      "C:\\Users\\viraj_pawasakar\\AppData\\Local\\Temp\\ipykernel_8736\\1065709537.py:11: FutureWarning: Series.__getitem__ treating keys as positions is deprecated. In a future version, integer keys will always be treated as labels (consistent with DataFrame behavior). To access a value by position, use `ser.iloc[pos]`\n",
      "  x = Series1[0]\n"
     ]
    }
   ],
   "source": [
    "#Creating a Series of Ndarray Data Without Labels\n",
    "Series2 = pd.Series(np.random.randn(4))\n",
    "print(Series2)\n",
    "print(Series2.index)\n",
    "#Slicing Data from a Series\n",
    "print (\" \\n Series slicing \")\n",
    "print (Series1[:3])\n",
    "print (\"\\nIndex accessing\")\n",
    "print (Series1[[3,1,0]])\n",
    "print(\"\\n Single index\")\n",
    "x = Series1[0]\n",
    "print (x)"
   ]
  },
  {
   "cell_type": "code",
   "execution_count": 3,
   "metadata": {},
   "outputs": [
    {
     "name": "stdout",
     "output_type": "stream",
     "text": [
      "\n",
      "Series Sample operations\n",
      "\n",
      " Series values greater than the mean: 0.2378\n",
      "a    0.660808\n",
      "d    0.649300\n",
      "dtype: float64\n",
      "\n",
      " Series values greater than theMeadian:0.2904\n",
      "a    0.660808\n",
      "d    0.649300\n",
      "dtype: float64\n",
      "\n",
      "Exponential value \n",
      "a    1.936355\n",
      "b    0.748058\n",
      "c    0.933788\n",
      "d    1.914201\n",
      "dtype: float64\n"
     ]
    }
   ],
   "source": [
    "#Sample Operations in a Series\n",
    "print (\"\\nSeries Sample operations\")\n",
    "print (\"\\n Series values greater than the mean: %.4f\"% Series1.mean())\n",
    "print (Series1 [Series1> Series1.mean()])\n",
    "print (\"\\n Series values greater than theMeadian:%.4f\" % Series1.median())\n",
    "print (Series1 [Series1> Series1.median()])\n",
    "print (\"\\nExponential value \")\n",
    "Series1Exp = np.exp(Series1)\n",
    "print (Series1Exp)"
   ]
  },
  {
   "cell_type": "code",
   "execution_count": 4,
   "metadata": {},
   "outputs": [
    {
     "name": "stdout",
     "output_type": "stream",
     "text": [
      "\n",
      "Series of non declared index\n",
      "0    <class 'dict'>\n",
      "dtype: object\n",
      "\n",
      "Series of declared index\n",
      "y    <class 'dict'>\n",
      "m    <class 'dict'>\n",
      "d    <class 'dict'>\n",
      "s    <class 'dict'>\n",
      "dtype: object\n"
     ]
    }
   ],
   "source": [
    "#Creating a Series from a Dictionary \n",
    "print (\"\\nSeries of non declared index\")\n",
    "SeriesDict1 = pd.Series(dict)\n",
    "print(SeriesDict1)\n",
    "print (\"\\nSeries of declared index\")\n",
    "SeriesDict2 = pd.Series(dict, index=['y', 'm', 'd','s'])\n",
    "print(SeriesDict2)"
   ]
  },
  {
   "cell_type": "code",
   "execution_count": 5,
   "metadata": {},
   "outputs": [
    {
     "name": "stdout",
     "output_type": "stream",
     "text": [
      "\n",
      "Use the get and set methods to accessa series values by index label\n",
      "\n",
      "<class 'dict'>\n",
      "y              1999\n",
      "m    <class 'dict'>\n",
      "d    <class 'dict'>\n",
      "s    <class 'dict'>\n",
      "dtype: object\n",
      "1999\n"
     ]
    }
   ],
   "source": [
    "#Altering a Series and Using the Get() Method\n",
    "print (\"\\nUse the get and set methods to access\" \"a series values by index label\\n\")\n",
    "SeriesDict2 = pd.Series(dict, index=['y', 'm', 'd','s'])\n",
    "print (SeriesDict2['y']) \n",
    "SeriesDict2['y']=1999 \n",
    "print (SeriesDict2) \n",
    "print (SeriesDict2.get('y')) "
   ]
  },
  {
   "cell_type": "code",
   "execution_count": 6,
   "metadata": {},
   "outputs": [
    {
     "name": "stdout",
     "output_type": "stream",
     "text": [
      "\n",
      " create series form scalar value \n",
      "a    8.0\n",
      "b    8.0\n",
      "c    8.0\n",
      "d    8.0\n",
      "dtype: float64\n"
     ]
    }
   ],
   "source": [
    "#Creating a Series Using a Scalar Value\n",
    "print (\"\\n create series form scalar value \")\n",
    "Scl = pd.Series(8., index=['a', 'b', 'c', 'd'])\n",
    "print (Scl)"
   ]
  },
  {
   "cell_type": "code",
   "execution_count": 7,
   "metadata": {},
   "outputs": [
    {
     "name": "stdout",
     "output_type": "stream",
     "text": [
      "Addition\n",
      "a    2\n",
      "b    4\n",
      "c    6\n",
      "d    8\n",
      "dtype: int64\n",
      "Addition with non-matched label\n",
      "a    NaN\n",
      "b    4.0\n",
      "c    6.0\n",
      "d    NaN\n",
      "dtype: float64\n",
      "Multiplication\n",
      "a     1\n",
      "b     4\n",
      "c     9\n",
      "d    16\n",
      "dtype: int64\n",
      "Exponential\n",
      "a     2.718282\n",
      "b     7.389056\n",
      "c    20.085537\n",
      "d    54.598150\n",
      "dtype: float64\n"
     ]
    }
   ],
   "source": [
    "#Vectorizing Operations on a Series\n",
    "SerX = pd.Series([1,2,3,4], index=['a', 'b', 'c', 'd'])\n",
    "print (\"Addition\");\n",
    "print( SerX + SerX)\n",
    "print (\"Addition with non-matched label\");\n",
    "print (SerX[1:] + SerX[:-1])\n",
    "print (\"Multiplication\");\n",
    "print (SerX * SerX)\n",
    "print (\"Exponential\");\n",
    "print (np.exp(SerX))"
   ]
  },
  {
   "cell_type": "code",
   "execution_count": 8,
   "metadata": {},
   "outputs": [
    {
     "name": "stdout",
     "output_type": "stream",
     "text": [
      "StudentsMarks\n",
      "Marks\n"
     ]
    }
   ],
   "source": [
    "#using a series Name Attribute\n",
    "std = pd.Series([77,89,65,90], name='StudentsMarks')\n",
    "print (std.name)\n",
    "std = std.rename(\"Marks\")\n",
    "print (std.name)"
   ]
  }
 ],
 "metadata": {
  "kernelspec": {
   "display_name": "Python 3",
   "language": "python",
   "name": "python3"
  },
  "language_info": {
   "codemirror_mode": {
    "name": "ipython",
    "version": 3
   },
   "file_extension": ".py",
   "mimetype": "text/x-python",
   "name": "python",
   "nbconvert_exporter": "python",
   "pygments_lexer": "ipython3",
   "version": "3.11.5"
  }
 },
 "nbformat": 4,
 "nbformat_minor": 2
}
