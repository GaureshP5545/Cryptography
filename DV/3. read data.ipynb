{
 "cells": [
  {
   "cell_type": "code",
   "execution_count": 7,
   "metadata": {},
   "outputs": [
    {
     "data": {
      "text/html": [
       "<div>\n",
       "<style scoped>\n",
       "    .dataframe tbody tr th:only-of-type {\n",
       "        vertical-align: middle;\n",
       "    }\n",
       "\n",
       "    .dataframe tbody tr th {\n",
       "        vertical-align: top;\n",
       "    }\n",
       "\n",
       "    .dataframe thead th {\n",
       "        text-align: right;\n",
       "    }\n",
       "</style>\n",
       "<table border=\"1\" class=\"dataframe\">\n",
       "  <thead>\n",
       "    <tr style=\"text-align: right;\">\n",
       "      <th></th>\n",
       "      <th>sepal.length</th>\n",
       "      <th>sepal.width</th>\n",
       "      <th>petal.length</th>\n",
       "      <th>petal.width</th>\n",
       "      <th>variety</th>\n",
       "    </tr>\n",
       "  </thead>\n",
       "  <tbody>\n",
       "    <tr>\n",
       "      <th>0</th>\n",
       "      <td>5.1</td>\n",
       "      <td>3.5</td>\n",
       "      <td>1.4</td>\n",
       "      <td>0.2</td>\n",
       "      <td>Setosa</td>\n",
       "    </tr>\n",
       "    <tr>\n",
       "      <th>1</th>\n",
       "      <td>4.9</td>\n",
       "      <td>3.0</td>\n",
       "      <td>1.4</td>\n",
       "      <td>0.2</td>\n",
       "      <td>Setosa</td>\n",
       "    </tr>\n",
       "    <tr>\n",
       "      <th>2</th>\n",
       "      <td>4.7</td>\n",
       "      <td>3.2</td>\n",
       "      <td>1.3</td>\n",
       "      <td>0.2</td>\n",
       "      <td>Setosa</td>\n",
       "    </tr>\n",
       "    <tr>\n",
       "      <th>3</th>\n",
       "      <td>4.6</td>\n",
       "      <td>3.1</td>\n",
       "      <td>1.5</td>\n",
       "      <td>0.2</td>\n",
       "      <td>Setosa</td>\n",
       "    </tr>\n",
       "    <tr>\n",
       "      <th>4</th>\n",
       "      <td>5.0</td>\n",
       "      <td>3.6</td>\n",
       "      <td>1.4</td>\n",
       "      <td>0.2</td>\n",
       "      <td>Setosa</td>\n",
       "    </tr>\n",
       "  </tbody>\n",
       "</table>\n",
       "</div>"
      ],
      "text/plain": [
       "   sepal.length  sepal.width  petal.length  petal.width variety\n",
       "0           5.1          3.5           1.4          0.2  Setosa\n",
       "1           4.9          3.0           1.4          0.2  Setosa\n",
       "2           4.7          3.2           1.3          0.2  Setosa\n",
       "3           4.6          3.1           1.5          0.2  Setosa\n",
       "4           5.0          3.6           1.4          0.2  Setosa"
      ]
     },
     "execution_count": 7,
     "metadata": {},
     "output_type": "execute_result"
    }
   ],
   "source": [
    "# read csv data\n",
    "# pip install fsspec\n",
    "\n",
    "import pandas as pd\n",
    "\n",
    "df = pd.read_csv(\"D://ppt//DV//iris.csv\")\n",
    "df.head()"
   ]
  },
  {
   "cell_type": "code",
   "execution_count": 1,
   "metadata": {},
   "outputs": [
    {
     "name": "stdout",
     "output_type": "stream",
     "text": [
      "Name: Ossama\n",
      "Hide: No\n"
     ]
    }
   ],
   "source": [
    "# read json data\n",
    "import json \n",
    "data = '''{\n",
    "\"name\" : \"Ossama\",\n",
    "\"phone\" : { \"type\" : \"intl\", \"number\" : \"+971 50 244 5467\"},\n",
    "\"email\" : {\"hide\" : \"No\" }\n",
    "}'''\n",
    "\n",
    "info = json.loads(data)\n",
    "print ('Name:',info[\"name\"])\n",
    "print ('Hide:',info[\"email\"][\"hide\"])\n",
    "# print ('Hide:',info[\"email\"])"
   ]
  },
  {
   "cell_type": "code",
   "execution_count": 9,
   "metadata": {},
   "outputs": [
    {
     "name": "stdout",
     "output_type": "stream",
     "text": [
      "<book name=\"xyz\">\n",
      "<Author>\n",
      "xyz Author\n",
      "</Author>\n",
      "<publication>\n",
      "C publication\n",
      "</publication>\n",
      "<price>\n",
      "3000\n",
      "</price>\n",
      "<edition>\n",
      "edition 3\n",
      "</edition>\n",
      "</book>\n"
     ]
    }
   ],
   "source": [
    "# read xml data\n",
    "# pip install lxml\n",
    "# pip install beautifulsoup4\n",
    "from bs4 import BeautifulSoup\n",
    "\n",
    "with open('dict.xml', 'r') as f:\n",
    "\tdata = f.read()\n",
    "Bs_data = BeautifulSoup(data, \"xml\")\n",
    "# b_unique = Bs_data.find_all('unique')\n",
    "book_tag = Bs_data.find_all('book')\n",
    "# print(book_tag ,\"\\n\")\n",
    "book_name = Bs_data.find('book', {'name':'xyz'})\n",
    "# b_name = Bs_data.find('child', {'name':'Texas'})\n",
    "print(book_name)\n",
    "# value = book_tag.get('test')\n",
    "# print(value)"
   ]
  },
  {
   "cell_type": "code",
   "execution_count": 4,
   "metadata": {},
   "outputs": [
    {
     "name": "stdout",
     "output_type": "stream",
     "text": [
      "<p class=\"mw-empty-elt\">\n",
      "</p>\n",
      "<p class=\"mw-empty-elt\">\n",
      "</p>\n",
      "<p>The <b>giant panda</b> (<i><b>Ailuropoda melanoleuca</b></i>), sometimes called a <b>panda bear</b> or simply <b>panda</b>, is a <a href=\"/wiki/Bear\" title=\"Bear\">bear</a> species <a class=\"mw-redirect\" href=\"/wiki/Endemic\" title=\"Endemic\">endemic</a> to <a href=\"/wiki/China\" title=\"China\">China</a>.<sup class=\"reference\" id=\"cite_ref-Scheff_Duncan_4-0\"><a href=\"#cite_note-Scheff_Duncan-4\">[4]</a></sup> It is characterised by its bold black-and-white <a href=\"/wiki/Animal_coat\" title=\"Animal coat\">coat</a> and rotund body. The name \"giant panda\" is sometimes used to distinguish it from the <a href=\"/wiki/Red_panda\" title=\"Red panda\">red panda</a>, a neighboring <a href=\"/wiki/Musteloidea\" title=\"Musteloidea\">musteloid</a>. Though it belongs to the order <a href=\"/wiki/Carnivora\" title=\"Carnivora\">Carnivora</a>, the giant panda is a <a href=\"/wiki/Folivore\" title=\"Folivore\">folivore</a>, with <a href=\"/wiki/Bamboo\" title=\"Bamboo\">bamboo</a> shoots and leaves making up more than 99% of its diet.<sup class=\"reference\" id=\"cite_ref-5\"><a href=\"#cite_note-5\">[5]</a></sup> Giant pandas in the wild occasionally eat other grasses, wild tubers, or even meat in the form of birds, rodents, or carrion. In captivity, they may receive honey, eggs, fish, yams, <a href=\"/wiki/Shrub\" title=\"Shrub\">shrub</a> leaves, oranges, or bananas along with specially prepared food.<sup class=\"reference\" id=\"cite_ref-6\"><a href=\"#cite_note-6\">[6]</a></sup><sup class=\"reference\" id=\"cite_ref-7\"><a href=\"#cite_note-7\">[7]</a></sup>\n",
      "</p>\n",
      "<p>The giant panda lives in a few mountain ranges in central China, mainly in <a href=\"/wiki/Sichuan\" title=\"Sichuan\">Sichuan</a>, and also in neighbouring <a href=\"/wiki/Shaanxi\" title=\"Shaanxi\">Shaanxi</a> and <a href=\"/wiki/Gansu\" title=\"Gansu\">Gansu</a>.<sup class=\"reference\" id=\"cite_ref-8\"><a href=\"#cite_note-8\">[8]</a></sup> As a result of farming, <a href=\"/wiki/Deforestation\" title=\"Deforestation\">deforestation</a>, and other development, the giant panda has been driven out of the lowland areas where it once lived, and it is a <a href=\"/wiki/Conservation-reliant_species\" title=\"Conservation-reliant species\">conservation-reliant</a> <a href=\"/wiki/Vulnerable_species\" title=\"Vulnerable species\">vulnerable species</a>.<sup class=\"reference\" id=\"cite_ref-wwf1_9-0\"><a href=\"#cite_note-wwf1-9\">[9]</a></sup><sup class=\"reference\" id=\"cite_ref-panda2016status_10-0\"><a href=\"#cite_note-panda2016status-10\">[10]</a></sup> A 2007 report showed 239 pandas living in captivity inside China and another 27 outside the country.<sup class=\"reference\" id=\"cite_ref-Xinhua1_11-0\"><a href=\"#cite_note-Xinhua1-11\">[11]</a></sup> By December 2014, 49 giant pandas lived in captivity outside China, living in 18 zoos in 13 countries.<sup class=\"reference\" id=\"cite_ref-12\"><a href=\"#cite_note-12\">[12]</a></sup> Wild population estimates vary; one estimate shows that there are about 1,590 individuals living in the wild,<sup class=\"reference\" id=\"cite_ref-Xinhua1_11-1\"><a href=\"#cite_note-Xinhua1-11\">[11]</a></sup> while a 2006 study via <a class=\"mw-redirect\" href=\"/wiki/Genetic_fingerprinting\" title=\"Genetic fingerprinting\">DNA analysis</a> estimated that this figure could be as high as 2,000 to 3,000.<sup class=\"reference\" id=\"cite_ref-BBC_06-07_13-0\"><a href=\"#cite_note-BBC_06-07-13\">[13]</a></sup> Some reports also show that the number of giant pandas in the wild is on the rise.<sup class=\"reference\" id=\"cite_ref-pandasinc_14-0\"><a href=\"#cite_note-pandasinc-14\">[14]</a></sup> By March 2015, the wild giant panda population had increased to 1,864 individuals.<sup class=\"reference\" id=\"cite_ref-15\"><a href=\"#cite_note-15\">[15]</a></sup> In 2016, it was reclassified on the <a href=\"/wiki/IUCN_Red_List\" title=\"IUCN Red List\">IUCN Red List</a> from \"endangered\" to \"vulnerable\",<sup class=\"reference\" id=\"cite_ref-iucn_1-2\"><a href=\"#cite_note-iucn-1\">[1]</a></sup> affirming decade-long efforts to save the panda. In July 2021, Chinese authorities also reclassified the giant panda as vulnerable.<sup class=\"reference\" id=\"cite_ref-16\"><a href=\"#cite_note-16\">[16]</a></sup>\n",
      "</p>\n",
      "<p>The giant panda has often served as China's <a href=\"/wiki/National_symbol\" title=\"National symbol\">national symbol</a>, appeared on <a href=\"/wiki/Chinese_Gold_Panda\" title=\"Chinese Gold Panda\">Chinese Gold Panda</a> coins since 1982 and as one of the five <a href=\"/wiki/Fuwa\" title=\"Fuwa\">Fuwa</a> mascots of the <a href=\"/wiki/2008_Summer_Olympics\" title=\"2008 Summer Olympics\">2008 Summer Olympics</a> held in <a href=\"/wiki/Beijing\" title=\"Beijing\">Beijing</a>.\n",
      "</p>\n",
      "<p>For many decades, the precise <a href=\"/wiki/Taxonomy_(biology)\" title=\"Taxonomy (biology)\">taxonomic</a> classification of the giant panda was under debate because it shares characteristics with both bears and <a href=\"/wiki/Raccoon\" title=\"Raccoon\">raccoons</a>.<sup class=\"reference\" id=\"cite_ref-Encyclopædia_Britannica_Online_17-0\"><a href=\"#cite_note-Encyclopædia_Britannica_Online-17\">[17]</a></sup> However in 1985, <a href=\"/wiki/Genetics#molecular\" title=\"Genetics\">molecular studies</a> indicate the giant panda is a true bear, part of the family Ursidae.<sup class=\"reference\" id=\"cite_ref-Lindburg,_Donald_G.;_Baragona,_Karen_2004_18-0\"><a href=\"#cite_note-Lindburg,_Donald_G.;_Baragona,_Karen_2004-18\">[18]</a></sup><sup class=\"reference\" id=\"cite_ref-19\"><a href=\"#cite_note-19\">[19]</a></sup> These studies show it diverged about <span class=\"nourlexpansion plainlinks\" style=\"white-space:nowrap;\"><a class=\"external text\" href=\"https://geoltime.github.io/?Ma=19\" rel=\"nofollow\">19</a> million years ago</span> from the <a class=\"mw-redirect\" href=\"/wiki/Common_ancestor\" title=\"Common ancestor\">common ancestor</a> of the <a class=\"mw-redirect\" href=\"/wiki/Ursidae\" title=\"Ursidae\">Ursidae</a>;<sup class=\"reference\" id=\"cite_ref-krause2008_20-0\"><a href=\"#cite_note-krause2008-20\">[20]</a></sup> it is the most <a href=\"/wiki/Basal_(phylogenetics)\" title=\"Basal (phylogenetics)\">basal</a> member of this family and equidistant from all other extant bear species.<sup class=\"reference\" id=\"cite_ref-krause2008_20-1\"><a href=\"#cite_note-krause2008-20\">[20]</a></sup><sup class=\"reference\" id=\"cite_ref-Yu2007_21-0\"><a href=\"#cite_note-Yu2007-21\">[21]</a></sup> The giant panda has been referred to as a <a href=\"/wiki/Living_fossil\" title=\"Living fossil\">living fossil</a>.<sup class=\"reference\" id=\"cite_ref-22\"><a href=\"#cite_note-22\">[22]</a></sup>\n",
      "</p>\n",
      "<p>The word <i>panda</i> was borrowed into English from French, but no conclusive explanation of the origin of the French word <i>panda</i> has been found.<sup class=\"reference\" id=\"cite_ref-23\"><a href=\"#cite_note-23\">[23]</a></sup> The closest candidate is the <a href=\"/wiki/Nepali_language\" title=\"Nepali language\">Nepali</a> word <i>ponya,</i> possibly referring to the adapted wrist bone of the <a href=\"/wiki/Red_panda\" title=\"Red panda\">red panda</a>, which is native to Nepal. In many older sources, the name \"panda\" or \"common panda\" refers to the red panda (<i>Ailurus fulgens</i>),<sup class=\"reference\" id=\"cite_ref-24\"><a href=\"#cite_note-24\">[24]</a></sup> which was described some 40 years earlier and over that period was the only animal known as a panda.<sup class=\"reference\" id=\"cite_ref-Introduction2022_25-0\"><a href=\"#cite_note-Introduction2022-25\">[25]</a></sup>\n",
      "</p>\n",
      "<p>Since the earliest collection of Chinese writings, the Chinese language has given the bear many different names, including <i><a href=\"/wiki/Mo_(Chinese_zoology)\" title=\"Mo (Chinese zoology)\">mò</a></i> (<span title=\"Chinese-language text\"><span lang=\"zh\">貘</span></span>, ancient Chinese name for giant panda),<sup class=\"reference\" id=\"cite_ref-26\"><a href=\"#cite_note-26\">[26]</a></sup> <i>huāxióng</i> (<span title=\"Chinese-language text\"><span lang=\"zh\">花熊</span></span>; \"spotted bear\") and <i>zhúxióng</i> (<span title=\"Chinese-language text\"><span lang=\"zh\">竹熊</span></span>; \"bamboo bear\").<sup class=\"reference\" id=\"cite_ref-huayuqiao.org_27-0\"><a href=\"#cite_note-huayuqiao.org-27\">[27]</a></sup> The most popular names in China today are <i>dàxióngmāo</i> (<span title=\"Chinese-language text\"><span lang=\"zh\">大熊貓</span></span>; <abbr style=\"font-size:85%\" title=\"literal translation\">lit.</abbr><span style=\"white-space: nowrap;\"> </span>'giant bear cat'), or simply <i>xióngmāo</i> (<span title=\"Chinese-language text\"><span lang=\"zh\">熊貓</span></span>; <abbr style=\"font-size:85%\" title=\"literal translation\">lit.</abbr><span style=\"white-space: nowrap;\"> </span>'bear cat'). As with the word panda in English, <i>xióngmāo</i> (<span title=\"Chinese-language text\"><span lang=\"zh\">熊貓</span></span>) was originally used to describe just the red panda, but <i>dàxióngmāo</i> (<span title=\"Chinese-language text\"><span lang=\"zh\">大熊貓</span></span>) and <i>xiǎoxióngmāo</i> (<span title=\"Chinese-language text\"><span lang=\"zh\">小熊猫</span></span>; <abbr style=\"font-size:85%\" title=\"literal translation\">lit.</abbr><span style=\"white-space: nowrap;\"> </span>'little bear cat') were coined to differentiate between the species.<sup class=\"reference\" id=\"cite_ref-huayuqiao.org_27-1\"><a href=\"#cite_note-huayuqiao.org-27\">[27]</a></sup>\n",
      "</p>\n",
      "<p>In <a href=\"/wiki/Taiwan\" title=\"Taiwan\">Taiwan</a>, another popular name for panda is the inverted <i>dàmāoxióng</i> (<span title=\"Chinese-language text\"><span lang=\"zh\">大貓熊</span></span>; <abbr style=\"font-size:85%\" title=\"literal translation\">lit.</abbr><span style=\"white-space: nowrap;\"> </span>'giant cat bear'), though many encyclopedias and dictionaries in Taiwan still use the \"bear cat\" form as the correct name. Some linguists argue, in this construction, \"bear\" instead of \"cat\" is the base noun, making the name more grammatically and logically correct, which may have led to the popular choice despite official writings.<sup class=\"reference\" id=\"cite_ref-huayuqiao.org_27-2\"><a href=\"#cite_note-huayuqiao.org-27\">[27]</a></sup> This name did not gain its popularity until 1988, when a private zoo in <a href=\"/wiki/Tainan\" title=\"Tainan\">Tainan</a> painted a <a href=\"/wiki/Sun_bear\" title=\"Sun bear\">sun bear</a> black and white and created the <a href=\"/wiki/Tainan_fake_panda_incident\" title=\"Tainan fake panda incident\">Tainan fake panda incident</a>.<sup class=\"reference\" id=\"cite_ref-28\"><a href=\"#cite_note-28\">[28]</a></sup><sup class=\"reference\" id=\"cite_ref-29\"><a href=\"#cite_note-29\">[29]</a></sup>\n",
      "</p>\n",
      "<p>Two subspecies of giant panda have been recognized on the basis of distinct cranial measurements, colour patterns, and <a href=\"/wiki/Population_genetics\" title=\"Population genetics\">population genetics</a>.<sup class=\"reference\" id=\"cite_ref-FOOTNOTEWanWuFang2005_30-0\"><a href=\"#cite_note-FOOTNOTEWanWuFang2005-30\">[30]</a></sup>\n",
      "</p>\n",
      "<p>A detailed study of the giant panda's genetic history from 2012<sup class=\"reference\" id=\"cite_ref-ng.2494_32-0\"><a href=\"#cite_note-ng.2494-32\">[32]</a></sup> confirms that the separation of the Qinlin population occurred about 300,000 years ago, and reveals that the non-Qinlin population further diverged into two groups, named the <a class=\"mw-redirect\" href=\"/wiki/Minshan\" title=\"Minshan\">Minshan</a> and the <a href=\"/wiki/Qionglai_Mountains\" title=\"Qionglai Mountains\">Qionglai</a>-<a href=\"/wiki/Daxiangling\" title=\"Daxiangling\">Daxiangling</a>-<a class=\"mw-redirect\" href=\"/wiki/Xiaoxiangling\" title=\"Xiaoxiangling\">Xiaoxiangling</a>-<a href=\"/wiki/Liangshan_Yi_Autonomous_Prefecture\" title=\"Liangshan Yi Autonomous Prefecture\">Liangshan</a> group respectively, about 2,800 years ago.<sup class=\"reference\" id=\"cite_ref-33\"><a href=\"#cite_note-33\">[33]</a></sup>\n",
      "</p>\n"
     ]
    }
   ],
   "source": [
    "# read html data\n",
    "import urllib \n",
    "from bs4 import BeautifulSoup\n",
    "# response = urllib.request.urlopen('https://pandas.pydata.org')\n",
    "response = urllib.request.urlopen('https://en.wikipedia.org/wiki/Giant_panda')\n",
    "html_doc = response.read()\n",
    "# print (html_doc[:300])\n",
    "soup = BeautifulSoup(html_doc, 'html.parser')\n",
    "# print (\"\\n\") \n",
    "counter=0\n",
    "for link in soup.findAll(\"p\"):\n",
    "    print(link)\n",
    "    if counter<10: \n",
    "        counter+=1\n",
    "        continue\n",
    "    else:\n",
    "        break"
   ]
  }
 ],
 "metadata": {
  "kernelspec": {
   "display_name": "Python 3",
   "language": "python",
   "name": "python3"
  },
  "language_info": {
   "codemirror_mode": {
    "name": "ipython",
    "version": 3
   },
   "file_extension": ".py",
   "mimetype": "text/x-python",
   "name": "python",
   "nbconvert_exporter": "python",
   "pygments_lexer": "ipython3",
   "version": "3.11.5"
  }
 },
 "nbformat": 4,
 "nbformat_minor": 2
}
