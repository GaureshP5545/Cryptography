{
 "cells": [
  {
   "cell_type": "code",
   "execution_count": 16,
   "metadata": {},
   "outputs": [
    {
     "name": "stdout",
     "output_type": "stream",
     "text": [
      "     Name  Age\n",
      "0  Ossama   25\n",
      "1     Ali   43\n",
      "2    Ziad   32\n"
     ]
    }
   ],
   "source": [
    "import pandas as pd\n",
    "import numpy as np\n",
    "data = [['Ossama',25],['Ali',43],['Ziad',32]]\n",
    "DF1 = pd.DataFrame(data,columns=['Name','Age'])\n",
    "print (DF1)"
   ]
  },
  {
   "cell_type": "code",
   "execution_count": 17,
   "metadata": {},
   "outputs": [
    {
     "name": "stdout",
     "output_type": "stream",
     "text": [
      "<class 'pandas.core.frame.DataFrame'>\n",
      "RangeIndex: 3 entries, 0 to 2\n",
      "Data columns (total 2 columns):\n",
      " #   Column  Non-Null Count  Dtype \n",
      "---  ------  --------------  ----- \n",
      " 0   Name    3 non-null      object\n",
      " 1   Age     3 non-null      int64 \n",
      "dtypes: int64(1), object(1)\n",
      "memory usage: 180.0+ bytes\n"
     ]
    }
   ],
   "source": [
    "DF1.info()"
   ]
  },
  {
   "cell_type": "code",
   "execution_count": 18,
   "metadata": {},
   "outputs": [
    {
     "name": "stdout",
     "output_type": "stream",
     "text": [
      "        Test2  Project  Test1\n",
      "First      20      NaN     10\n",
      "Second     20     20.0     30\n",
      "\n",
      "\n",
      "        Project  Test_1  Test2 \n",
      "First       NaN     NaN     NaN\n",
      "Second     20.0     NaN     NaN\n"
     ]
    }
   ],
   "source": [
    "data = [{'Test1': 10, 'Test2': 20},{'Test1': 30,'Test2': 20, 'Project': 20}]\n",
    "df1 = pd.DataFrame(data, index=['First', 'Second'],columns=['Test2', 'Project' , 'Test1'])\n",
    "df2 = pd.DataFrame(data, index=['First', 'Second'],columns=['Project', 'Test_1','Test2 '])\n",
    "print (df1)\n",
    "print (\"\\n\")\n",
    "print (df2)"
   ]
  },
  {
   "cell_type": "code",
   "execution_count": 19,
   "metadata": {},
   "outputs": [
    {
     "name": "stdout",
     "output_type": "stream",
     "text": [
      "       Test1  Test2\n",
      "Ahmed   70.0     56\n",
      "Ali     89.0     77\n",
      "Omar    55.0     82\n",
      "Salwa    NaN     65\n"
     ]
    }
   ],
   "source": [
    "data = {'Test1' : pd.Series([70, 55, 89],index=['Ahmed', 'Omar', 'Ali']),\n",
    " 'Test2' : pd.Series([56, 82, 77, 65],index=['Ahmed', 'Omar', 'Ali', 'Salwa'])}\n",
    "df1 = pd.DataFrame(data)\n",
    "print (df1)"
   ]
  },
  {
   "cell_type": "code",
   "execution_count": 20,
   "metadata": {},
   "outputs": [
    {
     "name": "stdout",
     "output_type": "stream",
     "text": [
      "       Test1  Test2  Project  Average\n",
      "Ahmed   70.0     56       87    71.00\n",
      "Ali     89.0     77       90    85.33\n",
      "Omar    55.0     82       83    73.33\n",
      "Salwa    NaN     65       67      NaN\n",
      "\n",
      "\n",
      "       Test1  Test2  Average\n",
      "Ahmed   70.0     56    71.00\n",
      "Ali     89.0     77    85.33\n",
      "Omar    55.0     82    73.33\n",
      "Salwa    NaN     65      NaN\n"
     ]
    }
   ],
   "source": [
    "df1['Project'] = pd.Series([90,83,67, 87],index=['Ali','Omar','Salwa', 'Ahmed'])\n",
    "df1['Average'] = round((df1['Test1']+df1['Test2']+df1['Project'])/3, 2)\n",
    "print (df1)\n",
    "df2 = df1\n",
    "print (\"\\n\")\n",
    "df2.pop('Project')\n",
    "print (df2) "
   ]
  },
  {
   "cell_type": "code",
   "execution_count": 21,
   "metadata": {},
   "outputs": [
    {
     "name": "stdout",
     "output_type": "stream",
     "text": [
      "       Test1  Test2  Average\n",
      "Omar    55.0     82    73.33\n",
      "Salwa    NaN     65      NaN\n"
     ]
    }
   ],
   "source": [
    "print (df1[2:4])"
   ]
  },
  {
   "cell_type": "code",
   "execution_count": 22,
   "metadata": {},
   "outputs": [
    {
     "name": "stdout",
     "output_type": "stream",
     "text": [
      "0    99\n",
      "1    55\n",
      "2    66\n",
      "3    88\n",
      "4    95\n",
      "5    84\n",
      "6    55\n",
      "7    75\n",
      "dtype: int64\n"
     ]
    }
   ],
   "source": [
    "test = [95, 84, 55, 75]\n",
    "marks = pd.Series(test)\n",
    "\n",
    "s = pd.Series([99, 55, 66, 88])\n",
    "\n",
    "NewSeries = pd.concat([s, marks], ignore_index=True)\n",
    "print(NewSeries)"
   ]
  },
  {
   "cell_type": "code",
   "execution_count": 23,
   "metadata": {},
   "outputs": [],
   "source": [
    "import pandas as pd\n",
    "data = {'Test1' : pd.Series([70, 55, 89], index=['Ahmed', 'Omar', 'Ali']),\n",
    "        'Test2' : pd.Series([56, 82, 77, 65], \n",
    "index=['Ahmed', 'Omar', 'Ali', 'Salwa']),\n",
    "'Project' : pd.Series([87, 83, 90, 67], \n",
    "index=['Ahmed', 'Omar', 'Ali', 'Salwa']),\n",
    "'Average' : pd.Series([71, 73.33, 85.33, 66], \n",
    "index=['Ahmed', 'Omar', 'Ali', 'Salw'])}"
   ]
  },
  {
   "cell_type": "code",
   "execution_count": 24,
   "metadata": {},
   "outputs": [
    {
     "data": {
      "text/plain": [
       "{'Test1': Ahmed    70\n",
       " Omar     55\n",
       " Ali      89\n",
       " dtype: int64,\n",
       " 'Test2': Ahmed    56\n",
       " Omar     82\n",
       " Ali      77\n",
       " Salwa    65\n",
       " dtype: int64,\n",
       " 'Project': Ahmed    87\n",
       " Omar     83\n",
       " Ali      90\n",
       " Salwa    67\n",
       " dtype: int64,\n",
       " 'Average': Ahmed    71.00\n",
       " Omar     73.33\n",
       " Ali      85.33\n",
       " Salw     66.00\n",
       " dtype: float64}"
      ]
     },
     "execution_count": 24,
     "metadata": {},
     "output_type": "execute_result"
    }
   ],
   "source": [
    "data"
   ]
  },
  {
   "cell_type": "code",
   "execution_count": 25,
   "metadata": {},
   "outputs": [],
   "source": [
    "df1 = pd.DataFrame(data)"
   ]
  },
  {
   "cell_type": "code",
   "execution_count": 26,
   "metadata": {},
   "outputs": [
    {
     "data": {
      "text/html": [
       "<div>\n",
       "<style scoped>\n",
       "    .dataframe tbody tr th:only-of-type {\n",
       "        vertical-align: middle;\n",
       "    }\n",
       "\n",
       "    .dataframe tbody tr th {\n",
       "        vertical-align: top;\n",
       "    }\n",
       "\n",
       "    .dataframe thead th {\n",
       "        text-align: right;\n",
       "    }\n",
       "</style>\n",
       "<table border=\"1\" class=\"dataframe\">\n",
       "  <thead>\n",
       "    <tr style=\"text-align: right;\">\n",
       "      <th></th>\n",
       "      <th>Test1</th>\n",
       "      <th>Test2</th>\n",
       "      <th>Project</th>\n",
       "      <th>Average</th>\n",
       "    </tr>\n",
       "  </thead>\n",
       "  <tbody>\n",
       "    <tr>\n",
       "      <th>Ahmed</th>\n",
       "      <td>70.0</td>\n",
       "      <td>56.0</td>\n",
       "      <td>87.0</td>\n",
       "      <td>71.00</td>\n",
       "    </tr>\n",
       "    <tr>\n",
       "      <th>Ali</th>\n",
       "      <td>89.0</td>\n",
       "      <td>77.0</td>\n",
       "      <td>90.0</td>\n",
       "      <td>85.33</td>\n",
       "    </tr>\n",
       "    <tr>\n",
       "      <th>Omar</th>\n",
       "      <td>55.0</td>\n",
       "      <td>82.0</td>\n",
       "      <td>83.0</td>\n",
       "      <td>73.33</td>\n",
       "    </tr>\n",
       "    <tr>\n",
       "      <th>Salw</th>\n",
       "      <td>NaN</td>\n",
       "      <td>NaN</td>\n",
       "      <td>NaN</td>\n",
       "      <td>66.00</td>\n",
       "    </tr>\n",
       "    <tr>\n",
       "      <th>Salwa</th>\n",
       "      <td>NaN</td>\n",
       "      <td>65.0</td>\n",
       "      <td>67.0</td>\n",
       "      <td>NaN</td>\n",
       "    </tr>\n",
       "  </tbody>\n",
       "</table>\n",
       "</div>"
      ],
      "text/plain": [
       "       Test1  Test2  Project  Average\n",
       "Ahmed   70.0   56.0     87.0    71.00\n",
       "Ali     89.0   77.0     90.0    85.33\n",
       "Omar    55.0   82.0     83.0    73.33\n",
       "Salw     NaN    NaN      NaN    66.00\n",
       "Salwa    NaN   65.0     67.0      NaN"
      ]
     },
     "execution_count": 26,
     "metadata": {},
     "output_type": "execute_result"
    }
   ],
   "source": [
    "df2 = pd.DataFrame([[80, 70, 90, 80]], columns = ['Test1','Test2','Project','Average'], index=['Khalid'])\n",
    "df1"
   ]
  },
  {
   "cell_type": "code",
   "execution_count": 28,
   "metadata": {},
   "outputs": [
    {
     "data": {
      "text/html": [
       "<div>\n",
       "<style scoped>\n",
       "    .dataframe tbody tr th:only-of-type {\n",
       "        vertical-align: middle;\n",
       "    }\n",
       "\n",
       "    .dataframe tbody tr th {\n",
       "        vertical-align: top;\n",
       "    }\n",
       "\n",
       "    .dataframe thead th {\n",
       "        text-align: right;\n",
       "    }\n",
       "</style>\n",
       "<table border=\"1\" class=\"dataframe\">\n",
       "  <thead>\n",
       "    <tr style=\"text-align: right;\">\n",
       "      <th></th>\n",
       "      <th>Test1</th>\n",
       "      <th>Test2</th>\n",
       "      <th>Project</th>\n",
       "      <th>Average</th>\n",
       "    </tr>\n",
       "  </thead>\n",
       "  <tbody>\n",
       "    <tr>\n",
       "      <th>0</th>\n",
       "      <td>70.0</td>\n",
       "      <td>56.0</td>\n",
       "      <td>87.0</td>\n",
       "      <td>71.00</td>\n",
       "    </tr>\n",
       "    <tr>\n",
       "      <th>1</th>\n",
       "      <td>89.0</td>\n",
       "      <td>77.0</td>\n",
       "      <td>90.0</td>\n",
       "      <td>85.33</td>\n",
       "    </tr>\n",
       "    <tr>\n",
       "      <th>2</th>\n",
       "      <td>55.0</td>\n",
       "      <td>82.0</td>\n",
       "      <td>83.0</td>\n",
       "      <td>73.33</td>\n",
       "    </tr>\n",
       "    <tr>\n",
       "      <th>3</th>\n",
       "      <td>NaN</td>\n",
       "      <td>NaN</td>\n",
       "      <td>NaN</td>\n",
       "      <td>66.00</td>\n",
       "    </tr>\n",
       "    <tr>\n",
       "      <th>4</th>\n",
       "      <td>NaN</td>\n",
       "      <td>65.0</td>\n",
       "      <td>67.0</td>\n",
       "      <td>NaN</td>\n",
       "    </tr>\n",
       "    <tr>\n",
       "      <th>5</th>\n",
       "      <td>80.0</td>\n",
       "      <td>70.0</td>\n",
       "      <td>90.0</td>\n",
       "      <td>80.00</td>\n",
       "    </tr>\n",
       "  </tbody>\n",
       "</table>\n",
       "</div>"
      ],
      "text/plain": [
       "   Test1  Test2  Project  Average\n",
       "0   70.0   56.0     87.0    71.00\n",
       "1   89.0   77.0     90.0    85.33\n",
       "2   55.0   82.0     83.0    73.33\n",
       "3    NaN    NaN      NaN    66.00\n",
       "4    NaN   65.0     67.0      NaN\n",
       "5   80.0   70.0     90.0    80.00"
      ]
     },
     "execution_count": 28,
     "metadata": {},
     "output_type": "execute_result"
    }
   ],
   "source": [
    "df_combined = pd.concat([df1, df2], ignore_index=True)\n",
    "\n",
    "df_combined"
   ]
  }
 ],
 "metadata": {
  "kernelspec": {
   "display_name": "Python 3",
   "language": "python",
   "name": "python3"
  },
  "language_info": {
   "codemirror_mode": {
    "name": "ipython",
    "version": 3
   },
   "file_extension": ".py",
   "mimetype": "text/x-python",
   "name": "python",
   "nbconvert_exporter": "python",
   "pygments_lexer": "ipython3",
   "version": "3.11.5"
  }
 },
 "nbformat": 4,
 "nbformat_minor": 2
}
