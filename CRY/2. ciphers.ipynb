{
 "cells": [
  {
   "cell_type": "markdown",
   "metadata": {},
   "source": [
    "## Substitution Cipher"
   ]
  },
  {
   "cell_type": "code",
   "execution_count": 1,
   "metadata": {},
   "outputs": [
    {
     "name": "stdout",
     "output_type": "stream",
     "text": [
      "abcdefghijklmnopqrstuvwxyzABCDEFGHIJKLMNOPQRSTUVWXYZ\n",
      "Plain Text: Hello\n",
      "character: H\n",
      "Tempo: L\n",
      "character: e\n",
      "Tempo: i\n",
      "character: l\n",
      "Tempo: p\n",
      "character: l\n",
      "Tempo: p\n",
      "character: o\n",
      "Tempo: s\n",
      "Cipher Text is: Lipps\n",
      "Recovoered plain text: Hello\n"
     ]
    }
   ],
   "source": [
    "import string\n",
    "all_letters= string.ascii_letters\n",
    "dict1 = { }\n",
    "key = 4\n",
    "print(all_letters)\n",
    "\n",
    "for i in range(len(all_letters)):\n",
    "    # print(\"Value of i\",i)\n",
    "    # print(\"Lenght:=\",len(all_letters))\n",
    "    dict1[all_letters[i]]=all_letters[(i+key)%len(all_letters)]\n",
    "    # print(\"Dictionary 1 :\",dict1)\n",
    "plain_txt=\"Hello\"\n",
    "print(\"Plain Text:\",plain_txt)\n",
    "cipher_txt=[]\n",
    "for char in plain_txt:\n",
    "    print(\"character:\",char)\n",
    "    if char in all_letters:\n",
    "        temp=dict1[char]\n",
    "        print(\"Tempo:\",temp)\n",
    "        cipher_txt.append(temp)\n",
    "    else:\n",
    "        temp=char\n",
    "        cipher_txt.append(temp)\n",
    "cipher_txt=\"\".join(cipher_txt)\n",
    "print(\"Cipher Text is:\",cipher_txt)\n",
    "dict2={ }\n",
    "for i in range(len(all_letters)):\n",
    "    # print(\"i---\",i)\n",
    "    # print(\"key:\", key)\n",
    "    #print(\"Lenght:\",len(all_letters))\n",
    "    dict2[all_letters[i]]=all_letters[(i-key)%(len(all_letters))]\n",
    "    # print(\"Dictionary 2:\",dict2)\n",
    "decrypt_txt=[]\n",
    "for char in cipher_txt:\n",
    "    if char in all_letters:\n",
    "        temp=dict2[char]\n",
    "        decrypt_txt.append(temp)\n",
    "    else:\n",
    "        temp=char\n",
    "        decrypt_txt.append(temp)\n",
    "decrypt_txt=\"\".join(decrypt_txt)\n",
    "print(\"Recovoered plain text:\",decrypt_txt)"
   ]
  },
  {
   "cell_type": "markdown",
   "metadata": {},
   "source": [
    "## Affine cipher "
   ]
  },
  {
   "cell_type": "code",
   "execution_count": 2,
   "metadata": {},
   "outputs": [
    {
     "name": "stdout",
     "output_type": "stream",
     "text": [
      "Encrypted Text: UBBAHKCAPJKX\n",
      "Decrypted Text: AFFINECIPHER\n"
     ]
    }
   ],
   "source": [
    "def egcd(a,b):\n",
    "    x,y,u,v=0,1,1,0\n",
    "    while a!=0:\n",
    "        q,r=b//a,b%a\n",
    "        m,n=x-u*q,y-v*q\n",
    "        b,a, x,y, u,v = a,r, u,v, m,n\n",
    "    gcd = b\n",
    "    return gcd, x, y\n",
    "def modinv(a, m):\n",
    "    gcd, x, y = egcd(a, m)\n",
    "    if gcd!=1:\n",
    "        return None\n",
    "    else:\n",
    "        return x%m\n",
    "def affine_encrypt(text,key):\n",
    "    return \"\".join([ chr((( key[0]*(ord(t) - ord('A')) + key[1] ) % 26)+ ord('A')) for t in text.upper().replace(' ','' ) ])\n",
    "def affine_decrypt(cipher,key):\n",
    "    return \"\".join([ chr((( modinv(key[0], 26)*(ord(c) - ord('A') - key[1]))% 26) + ord('A')) for c in cipher ])\n",
    "def aff_main():\n",
    "    text='AFFINE CIPHER'\n",
    "    key=[17,20]\n",
    "    affine_encrypted_text=affine_encrypt(text,key)\n",
    "    print('Encrypted Text:', affine_encrypted_text)\n",
    "    print('Decrypted Text:', affine_decrypt(affine_encrypted_text, key) ) \n",
    "#if __name__=='_main_':\n",
    "aff_main()"
   ]
  },
  {
   "cell_type": "markdown",
   "metadata": {},
   "source": [
    "## Vigenère Cipher"
   ]
  },
  {
   "cell_type": "code",
   "execution_count": null,
   "metadata": {},
   "outputs": [],
   "source": [
    "public class VignereCipherJava\n",
    "{\n",
    "\tpublic static void main(String[]s)\n",
    "\t{\n",
    "\t\tString message= \"HELLOWORLD\";\n",
    "\t\tchar msg[]=new char[message.length()];\n",
    "\t\tmsg= getChars(message);\n",
    "\t\tSystem.out.println(msg);\n",
    "\n",
    "\t\tString key2=\"LOCK\";\n",
    "\t\tchar key[]=new char[key2.length()];\n",
    "\t\tkey=getChars(key2);\n",
    "\t\tSystem.out.println(key);\n",
    "\t\t\n",
    "\t\tint msgLen=msg.length,i,j;\n",
    "\t\tSystem.out.println(\"length is\"+msgLen);\n",
    "\t\tchar newKey[]=new char[msgLen];\n",
    "\t\tchar encryptedMsg[]=new char[msgLen];\n",
    "\t\tchar decryptedMsg[]= new char[msgLen];\n",
    "\n",
    "\t\tfor(i=0,j=0;i<msgLen;++i,++j)\n",
    "\t\t{\n",
    "\t\t\tif(j==key.length)\n",
    "\t\t\tj=0;\n",
    "\t\t\tnewKey[i]=key[j];\n",
    "\t\t}\n",
    "\n",
    "\t\tfor(i=0;i< msgLen;++i)\n",
    "\t\t{\n",
    "\t\t\tencryptedMsg[i]=(char)(((msg[i]+newKey[i])%26)+'A');\n",
    "\t\t}\n",
    "\t\tfor(i=0;i<msgLen;++i)\n",
    "\t\t{\n",
    "\t\t\tdecryptedMsg[i]=(char)((((encryptedMsg[i]-newKey[i])+26)%26)+'A');  \n",
    "\t\t} \n",
    "\n",
    "\n",
    "\t\t\tSystem.out.println(\"Original Message: \" + String.valueOf(msg)); \t\t\t\t\t\t\t//String.valueOf(convertscharacter array to String\n",
    " \t\t\tSystem.out.println(\"Key: \" + String.valueOf(key));\n",
    " \t\t\tSystem.out.println(\"Generated Key: \" + String.valueOf(newKey));\n",
    " \t\t\tSystem.out.println(\"\\nEncrypted Message: \" + String.valueOf(encryptedMsg));\n",
    " \t\t\tSystem.out.println(\"\\nDecrypted Message: \" + String.valueOf(decryptedMsg));\n",
    "\t}\n",
    "\n",
    "\tprivate static char[] getChars(String message) \n",
    "\t{\n",
    " \t\tchar msg1[] = new char[message.length()];\n",
    " \t\tfor (int ii = 0; ii < message.length(); ii++) \n",
    "\t\t{\n",
    " \t\t\tchar c = message.charAt(ii);\n",
    " \t\t\tif(c!=' ')\n",
    "\t\t\t{\n",
    " \t\t\t\tmsg1[ii] = c;\n",
    " \t\t\t}\n",
    " \t\t}\n",
    " \t\treturn msg1;\n",
    " \t}\n",
    "} "
   ]
  },
  {
   "cell_type": "markdown",
   "metadata": {},
   "source": [
    "OUTPUT:-\n",
    "\n",
    "D:\\crypto1>javac VignereCipherJava.java\n",
    "\n",
    "D:\\crypto1>java VignereCipherJava\n",
    "HELLOWORLD\n",
    "LOCK\n",
    "length is10\n",
    "Original Message: HELLOWORLD\n",
    "Key: LOCK\n",
    "Generated Key: LOCKLOCKLO\n",
    "\n",
    "Encrypted Message: SSNVZKQBWR\n",
    "\n",
    "Decrypted Message: HELLOWORLD"
   ]
  }
 ],
 "metadata": {
  "kernelspec": {
   "display_name": "Python 3",
   "language": "python",
   "name": "python3"
  },
  "language_info": {
   "codemirror_mode": {
    "name": "ipython",
    "version": 3
   },
   "file_extension": ".py",
   "mimetype": "text/x-python",
   "name": "python",
   "nbconvert_exporter": "python",
   "pygments_lexer": "ipython3",
   "version": "3.11.5"
  }
 },
 "nbformat": 4,
 "nbformat_minor": 2
}
