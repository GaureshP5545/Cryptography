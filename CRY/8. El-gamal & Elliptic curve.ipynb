{
 "cells": [
  {
   "cell_type": "markdown",
   "metadata": {},
   "source": [
    "## (i) El-Gamal Cryptosystem"
   ]
  },
  {
   "cell_type": "code",
   "execution_count": null,
   "metadata": {},
   "outputs": [],
   "source": [
    "import java.math.*;\n",
    "import java.util.*;\n",
    "import java.security.*;\n",
    "import java.io.*;\n",
    "\n",
    "public class EIGamal\n",
    "{\n",
    "\tpublic static void main(String[] args)\n",
    "\tthrows IOException\n",
    "\t{\n",
    "\t\tBigInteger p,b,c,secretkey;\n",
    "\t\tRandom sc=new SecureRandom();\n",
    "\t\tsecretkey=new BigInteger(\"12345678901234567890\");\n",
    "\t\tSystem.out.println(\"secretKey=\"+ secretkey);\n",
    "\t\tp=BigInteger.probablePrime(64,sc);\n",
    "\t\tb=new BigInteger(\"3\");\n",
    "\t\tc=b.modPow(secretkey,p);\n",
    "\t\tSystem.out.println(\"p=\"+p);\n",
    "\t\tSystem.out.println(\"b=\"+b);\n",
    "\t\tSystem.out.println(\"c=\"+c);\n",
    "\t\t//Encryption\n",
    "\t\tSystem.out.print(\"Enter your Big Number message-\");\n",
    "\t\tScanner sca=new Scanner(System.in);\n",
    "\t\tString s=sca.nextLine();\n",
    "\t\tBigInteger x=new BigInteger(s);\n",
    "\t\tBigInteger r=new BigInteger(64,sc);\n",
    "\t\tBigInteger EC=x.multiply(c.modPow(r,p)).mod(p);\n",
    "\t\tBigInteger brmodp=b.modPow(r,p);\n",
    "\t\tSystem.out.println(\"Plaintext=\"+x);\n",
    "\t\tSystem.out.println(\"r=\"+r);\n",
    "\t\tSystem.out.println(\"EC=\"+EC);\n",
    "\t\tSystem.out.println(\"b^r mod p=\"+brmodp);\n",
    "\t\t//decryption\n",
    "\t\tBigInteger crmodp=brmodp.modPow(secretkey,p);\n",
    "\t\tBigInteger d=crmodp.modInverse(p);\n",
    "\t\tBigInteger ad=d.multiply(EC).mod(p);\n",
    "\t\tSystem.out.println(\"\\n\\nc^r mod p=\"+crmodp);\n",
    "\t\tSystem.out.println(\"d=\"+d);\n",
    "\t\tSystem.out.println(\"Alice decodes:\"+ad);\n",
    "\t}\n",
    "}\n"
   ]
  },
  {
   "cell_type": "markdown",
   "metadata": {},
   "source": [
    "D:\\crypto1>javac EIGamal.java\n",
    "D:\\crypto1>java EIGamal\n",
    "secretKey=12345678901234567890\n",
    "p=14093384205030402353\n",
    "b=3\n",
    "c=10516930009166647355\n",
    "Enter your Big Number message-1234\n",
    "Plaintext=1234\n",
    "r=4977089144593576041\n",
    "EC=2775931518051868433\n",
    "b^r mod p=11712272720094608269\n",
    "c^r mod p=2640476242204274564\n",
    "d=10045404911851527367\n",
    "Alice decodes:1234"
   ]
  },
  {
   "cell_type": "markdown",
   "metadata": {},
   "source": [
    "## (ii) Elliptic Curve Cryptography"
   ]
  },
  {
   "cell_type": "code",
   "execution_count": 1,
   "metadata": {},
   "outputs": [
    {
     "name": "stdout",
     "output_type": "stream",
     "text": [
      "Bob's private key: 0xfd0d7108b2f7097bc95920044f0a4d21c3f965bca6b095ee\n",
      "Bob's public key: 0x2be8ee95ec9668b18ec43f9128336f51898654d45dbe03290\n",
      "\n",
      "\n",
      "Alice's private key: 0xfdc2fd26d9910040db163211e8140bb3c4b7228ce54b89e9\n",
      "Alice's public key: 0x330d9312c7673125c14cad29b9149aa3bae058a95c96f5a90\n",
      "\n",
      "\n",
      "Ciphertext public key: 0x11327784901604bb97ea2e194b37351aa54730ec38b4bea00\n",
      "Encryption key: 0xe5e63605e1151ead4916622c5690c6ffedfb81aaec0b92881\n",
      "\n",
      "\n",
      "Decryption key: 0xe5e63605e1151ead4916622c5690c6ffedfb81aaec0b92881\n"
     ]
    }
   ],
   "source": [
    "\n",
    "#import tinyec\n",
    "from tinyec import registry\n",
    "import secrets\n",
    "curve = registry.get_curve('secp192r1')\n",
    "def compress_point(point):\n",
    "    return hex(point.x) + hex(point.y % 2)[2:]\n",
    "\n",
    "def ecc_calc_encryption_keys(pubKey):\n",
    "    ciphertextPrivKey = secrets.randbelow(curve.field.n)\n",
    "    ciphertextPubKey = ciphertextPrivKey * curve.g\n",
    "    sharedECCKey = pubKey * ciphertextPrivKey\n",
    "    return (sharedECCKey, ciphertextPubKey)\n",
    "\n",
    "def ecc_calc_decryption_key(privKey, ciphertextPubKey):\n",
    "    sharedECCKey = ciphertextPubKey * privKey\n",
    "    return sharedECCKey\n",
    "# Generate a key pair for Bob\n",
    "bob_priv_key = secrets.randbelow(curve.field.n)\n",
    "bob_pub_key = bob_priv_key * curve.g\n",
    "print(\"Bob's private key:\", hex(bob_priv_key))\n",
    "print(\"Bob's public key:\", compress_point(bob_pub_key))\n",
    "print(\"\\n\")\n",
    "# Generate a key pair for Alice\n",
    "alice_priv_key = secrets.randbelow(curve.field.n)\n",
    "alice_pub_key = alice_priv_key * curve.g\n",
    "print(\"Alice's private key:\", hex(alice_priv_key))\n",
    "print(\"Alice's public key:\", compress_point(alice_pub_key))\n",
    "print(\"\\n\")\n",
    "# Alice generates an encryption key and ciphertext public key using Bob's public key\n",
    "(encrypt_key, ciphertext_pub_key) = ecc_calc_encryption_keys(bob_pub_key)\n",
    "print(\"Ciphertext public key:\", compress_point(ciphertext_pub_key))\n",
    "print(\"Encryption key:\", compress_point(encrypt_key))\n",
    "print(\"\\n\")\n",
    "# Bob calculates the decryption key using his private key and Alice's ciphertext public key\n",
    "decrypt_key = ecc_calc_decryption_key(bob_priv_key, ciphertext_pub_key)\n",
    "print(\"Decryption key:\", compress_point(decrypt_key))\n"
   ]
  }
 ],
 "metadata": {
  "kernelspec": {
   "display_name": "Python 3",
   "language": "python",
   "name": "python3"
  },
  "language_info": {
   "codemirror_mode": {
    "name": "ipython",
    "version": 3
   },
   "file_extension": ".py",
   "mimetype": "text/x-python",
   "name": "python",
   "nbconvert_exporter": "python",
   "pygments_lexer": "ipython3",
   "version": "3.11.5"
  }
 },
 "nbformat": 4,
 "nbformat_minor": 2
}
